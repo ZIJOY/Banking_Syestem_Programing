{
 "cells": [
  {
   "cell_type": "markdown",
   "metadata": {},
   "source": [
    "# Banking System using OOP\n",
    "# Name, Email, phone, addr, age, pin, acc_no, balance\n",
    "# Accounts: Creation, Closing, Pin Change\n",
    "# Transaction: Deposite, Withdraw, Transfer"
   ]
  },
  {
   "cell_type": "code",
   "execution_count": null,
   "metadata": {},
   "outputs": [],
   "source": [
    "db = {}\n",
    "init_account = 10000"
   ]
  },
  {
   "cell_type": "code",
   "execution_count": null,
   "metadata": {},
   "outputs": [],
   "source": [
    "class Account:\n",
    "    bank = 'XYZ Bank'\n",
    "\n",
    "    def __init__(self, name: str, age: int, email: str, phone: str, addr: str) -> None:\n",
    "        self.name = name\n",
    "        self.age = age\n",
    "        self.email = email\n",
    "        self.phone = phone\n",
    "        self.addr = addr\n",
    "        self.active = True\n",
    "\n",
    "    def chek(self, pin: str):\n",
    "        return True if self.active and self.pin == pin else False\n",
    "\n",
    "    def validate(self):\n",
    "        nameValid = True if (\n",
    "            len(self.name) > 5 and len(self.name) < 40) else False\n",
    "        ageValid = True if self.age > 18 else False\n",
    "        emailValid = True if self.email.endswith(\"@gmail.com\") else False\n",
    "        phoneValid = True if len(\n",
    "            self.phone) == 11 and self.phone.isdigit() else False\n",
    "        return all([nameValid, ageValid, emailValid, phoneValid])\n",
    "\n",
    "    def create(self):\n",
    "        global init_account, db\n",
    "        if self.validate() and not(self.email in [obj.email for acc, obj in db.items()]):\n",
    "            self.pin = self.phone[-4:]\n",
    "            self.balance = 0.0\n",
    "            self.acc_no = init_account\n",
    "            db[init_account] = self\n",
    "            init_account += 1\n",
    "            return \"Account Created Successfully!\"\n",
    "        return \"Infromation Invalid or Email Already Exists!\"\\\n",
    "\n",
    "\n",
    "    def deactivate(self, pin: str):\n",
    "        if self.chek(pin):\n",
    "            self.active = False\n",
    "            return True\n",
    "        return False\n",
    "\n",
    "    def pinChange(self, old_pin: str, new_pin: str):\n",
    "        if self.chek(old_pin):\n",
    "            self.pin = new_pin\n",
    "            return True\n",
    "        return False\n",
    "\n",
    "    def deposit(self, amount: float):\n",
    "        if self.active:\n",
    "            self.balance += amount\n",
    "            return True\n",
    "        else:\n",
    "            return False\n",
    "\n",
    "    def withdraw(self, pin: str, amount: float):\n",
    "        if self.chek(pin) and self.balance > amount:\n",
    "            self.balance -= amount\n",
    "            return True\n",
    "\n",
    "    def transfer(self, pin: str, amount: float, to_acc: int):\n",
    "        global db\n",
    "        if self.chek(pin) and to_acc in db.keys() and db[to_acc].active:\n",
    "            if self.withdraw(pin, amount):\n",
    "                db[to_acc].deposit(amount)\n",
    "                return True\n",
    "            else:\n",
    "                return False\n",
    "        else:\n",
    "            return False\n",
    "\n",
    "    def __repr__(self):\n",
    "        return f'Account(acc_no={self.acc_no}, name={self.name})'\n"
   ]
  },
  {
   "cell_type": "code",
   "execution_count": null,
   "metadata": {},
   "outputs": [],
   "source": [
    "acc = Account('Alexa Smith', 26, 'alex@gmail.com', '78965432782', 'Dhaka, Bangladesh')\n",
    "acc.create()"
   ]
  },
  {
   "cell_type": "code",
   "execution_count": null,
   "metadata": {},
   "outputs": [],
   "source": [
    "db[10000].pinChange('2782', '6754')"
   ]
  },
  {
   "cell_type": "code",
   "execution_count": null,
   "metadata": {},
   "outputs": [],
   "source": [
    "db[10000].balance"
   ]
  },
  {
   "cell_type": "code",
   "execution_count": null,
   "metadata": {},
   "outputs": [],
   "source": [
    "db[10000].deposit(10000)"
   ]
  },
  {
   "cell_type": "code",
   "execution_count": null,
   "metadata": {},
   "outputs": [],
   "source": [
    "db[10000].transfer('2782', 6000, 10001)"
   ]
  },
  {
   "cell_type": "code",
   "execution_count": null,
   "metadata": {},
   "outputs": [],
   "source": [
    "acc = Account('John Smith', 26, 'john@gmail.com', '78965432798', 'Dhaka, Bangladesh')\n",
    "acc.create()"
   ]
  },
  {
   "cell_type": "code",
   "execution_count": null,
   "metadata": {},
   "outputs": [],
   "source": [
    "db[10001].balance"
   ]
  },
  {
   "cell_type": "markdown",
   "metadata": {},
   "source": []
  }
 ],
 "metadata": {
  "language_info": {
   "name": "python"
  },
  "orig_nbformat": 4
 },
 "nbformat": 4,
 "nbformat_minor": 2
}
